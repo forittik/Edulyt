{
 "cells": [
  {
   "cell_type": "code",
   "execution_count": 61,
   "id": "1bf9fedb",
   "metadata": {},
   "outputs": [
    {
     "data": {
      "text/html": [
       "<div>\n",
       "<style scoped>\n",
       "    .dataframe tbody tr th:only-of-type {\n",
       "        vertical-align: middle;\n",
       "    }\n",
       "\n",
       "    .dataframe tbody tr th {\n",
       "        vertical-align: top;\n",
       "    }\n",
       "\n",
       "    .dataframe thead th {\n",
       "        text-align: right;\n",
       "    }\n",
       "</style>\n",
       "<table border=\"1\" class=\"dataframe\">\n",
       "  <thead>\n",
       "    <tr style=\"text-align: right;\">\n",
       "      <th></th>\n",
       "      <th>Credit_card</th>\n",
       "      <th>Product_ID</th>\n",
       "      <th>P_CATEGORY</th>\n",
       "      <th>CONDTION</th>\n",
       "      <th>Brand</th>\n",
       "      <th>Price</th>\n",
       "      <th>Selling_price</th>\n",
       "      <th>Coupon_ID</th>\n",
       "      <th>Date</th>\n",
       "      <th>Time</th>\n",
       "      <th>GTIN</th>\n",
       "      <th>MPN</th>\n",
       "      <th>Merchant_name</th>\n",
       "      <th>M_ID</th>\n",
       "      <th>Payment Method</th>\n",
       "      <th>Transaction ID</th>\n",
       "      <th>Return_ind</th>\n",
       "      <th>Return_date</th>\n",
       "    </tr>\n",
       "  </thead>\n",
       "  <tbody>\n",
       "    <tr>\n",
       "      <th>0</th>\n",
       "      <td>4595.0</td>\n",
       "      <td>534</td>\n",
       "      <td>SHOES</td>\n",
       "      <td>New</td>\n",
       "      <td>RKFCM</td>\n",
       "      <td>$1,484.74</td>\n",
       "      <td>$1,471.74</td>\n",
       "      <td>BN710</td>\n",
       "      <td>26/08/2014</td>\n",
       "      <td>17:16:17</td>\n",
       "      <td>3109172</td>\n",
       "      <td>547836726</td>\n",
       "      <td>Peninsula Beauty</td>\n",
       "      <td>YE5901</td>\n",
       "      <td>Prepaid card</td>\n",
       "      <td>30462</td>\n",
       "      <td>0</td>\n",
       "      <td>NaN</td>\n",
       "    </tr>\n",
       "    <tr>\n",
       "      <th>1</th>\n",
       "      <td>6679.0</td>\n",
       "      <td>396</td>\n",
       "      <td>LUGGAGE</td>\n",
       "      <td>New</td>\n",
       "      <td>TNVON</td>\n",
       "      <td>$1,452.50</td>\n",
       "      <td>$1,442.50</td>\n",
       "      <td>KF815</td>\n",
       "      <td>26/01/2014</td>\n",
       "      <td>15:40:52</td>\n",
       "      <td>7583605</td>\n",
       "      <td>279617132</td>\n",
       "      <td>DODOcase</td>\n",
       "      <td>UW7354</td>\n",
       "      <td>Mobile carrier Billing</td>\n",
       "      <td>37927</td>\n",
       "      <td>0</td>\n",
       "      <td>NaN</td>\n",
       "    </tr>\n",
       "    <tr>\n",
       "      <th>2</th>\n",
       "      <td>7075.0</td>\n",
       "      <td>449</td>\n",
       "      <td>SHOES</td>\n",
       "      <td>Refurbished</td>\n",
       "      <td>VKKEA</td>\n",
       "      <td>$4,308.02</td>\n",
       "      <td>$4,284.02</td>\n",
       "      <td>UG960</td>\n",
       "      <td>03/01/2014</td>\n",
       "      <td>01:29:05</td>\n",
       "      <td>9985192</td>\n",
       "      <td>633765867</td>\n",
       "      <td>Staples</td>\n",
       "      <td>VN6656</td>\n",
       "      <td>Credit card</td>\n",
       "      <td>80640</td>\n",
       "      <td>0</td>\n",
       "      <td>NaN</td>\n",
       "    </tr>\n",
       "    <tr>\n",
       "      <th>3</th>\n",
       "      <td>1418.0</td>\n",
       "      <td>145</td>\n",
       "      <td>BEDDING</td>\n",
       "      <td>New</td>\n",
       "      <td>PIUEM</td>\n",
       "      <td>$3,272.59</td>\n",
       "      <td>$3,249.59</td>\n",
       "      <td>DK471</td>\n",
       "      <td>30/05/2014</td>\n",
       "      <td>09:10:00</td>\n",
       "      <td>7720605</td>\n",
       "      <td>734500382</td>\n",
       "      <td>Road Runner Sports</td>\n",
       "      <td>MS6579</td>\n",
       "      <td>Prepaid card</td>\n",
       "      <td>58692</td>\n",
       "      <td>0</td>\n",
       "      <td>NaN</td>\n",
       "    </tr>\n",
       "    <tr>\n",
       "      <th>4</th>\n",
       "      <td>6740.0</td>\n",
       "      <td>844</td>\n",
       "      <td>ELECTRONICS</td>\n",
       "      <td>Used</td>\n",
       "      <td>FMBZC</td>\n",
       "      <td>$628.67</td>\n",
       "      <td>$608.67</td>\n",
       "      <td>OJ311</td>\n",
       "      <td>14/08/2014</td>\n",
       "      <td>05:31:30</td>\n",
       "      <td>8367528</td>\n",
       "      <td>241944637</td>\n",
       "      <td>L'Occitane</td>\n",
       "      <td>GN3944</td>\n",
       "      <td>Debit card</td>\n",
       "      <td>21505</td>\n",
       "      <td>0</td>\n",
       "      <td>NaN</td>\n",
       "    </tr>\n",
       "    <tr>\n",
       "      <th>...</th>\n",
       "      <td>...</td>\n",
       "      <td>...</td>\n",
       "      <td>...</td>\n",
       "      <td>...</td>\n",
       "      <td>...</td>\n",
       "      <td>...</td>\n",
       "      <td>...</td>\n",
       "      <td>...</td>\n",
       "      <td>...</td>\n",
       "      <td>...</td>\n",
       "      <td>...</td>\n",
       "      <td>...</td>\n",
       "      <td>...</td>\n",
       "      <td>...</td>\n",
       "      <td>...</td>\n",
       "      <td>...</td>\n",
       "      <td>...</td>\n",
       "      <td>...</td>\n",
       "    </tr>\n",
       "    <tr>\n",
       "      <th>9994</th>\n",
       "      <td>8609.0</td>\n",
       "      <td>470</td>\n",
       "      <td>APPLIANCES</td>\n",
       "      <td>New</td>\n",
       "      <td>TTNTN</td>\n",
       "      <td>$1,187.85</td>\n",
       "      <td>$1,187.85</td>\n",
       "      <td>FL494</td>\n",
       "      <td>09/08/2014</td>\n",
       "      <td>18:09:03</td>\n",
       "      <td>7482917</td>\n",
       "      <td>337083364</td>\n",
       "      <td>Cole Hardware</td>\n",
       "      <td>EX7729</td>\n",
       "      <td>Credit card</td>\n",
       "      <td>17306</td>\n",
       "      <td>0</td>\n",
       "      <td>NaN</td>\n",
       "    </tr>\n",
       "    <tr>\n",
       "      <th>9995</th>\n",
       "      <td>9725.0</td>\n",
       "      <td>406</td>\n",
       "      <td>CLOTHING</td>\n",
       "      <td>Used</td>\n",
       "      <td>ONKHS</td>\n",
       "      <td>$2,202.20</td>\n",
       "      <td>$2,202.20</td>\n",
       "      <td>DP660</td>\n",
       "      <td>02/11/2014</td>\n",
       "      <td>12:31:20</td>\n",
       "      <td>6749808</td>\n",
       "      <td>354170741</td>\n",
       "      <td>Cole Hardware</td>\n",
       "      <td>EX7730</td>\n",
       "      <td>Prepaid card</td>\n",
       "      <td>41829</td>\n",
       "      <td>0</td>\n",
       "      <td>NaN</td>\n",
       "    </tr>\n",
       "    <tr>\n",
       "      <th>9996</th>\n",
       "      <td>1548.0</td>\n",
       "      <td>694</td>\n",
       "      <td>ELECTRONICS</td>\n",
       "      <td>New</td>\n",
       "      <td>AGSDS</td>\n",
       "      <td>$3,123.80</td>\n",
       "      <td>$3,079.80</td>\n",
       "      <td>VI354</td>\n",
       "      <td>09/02/2014</td>\n",
       "      <td>20:06:24</td>\n",
       "      <td>7644170</td>\n",
       "      <td>101023606</td>\n",
       "      <td>Barnes &amp; Noble</td>\n",
       "      <td>EY1659</td>\n",
       "      <td>Mobile carrier Billing</td>\n",
       "      <td>34577</td>\n",
       "      <td>0</td>\n",
       "      <td>NaN</td>\n",
       "    </tr>\n",
       "    <tr>\n",
       "      <th>9997</th>\n",
       "      <td>4878.0</td>\n",
       "      <td>552</td>\n",
       "      <td>SHOES</td>\n",
       "      <td>New</td>\n",
       "      <td>RKFCM</td>\n",
       "      <td>$1,257.44</td>\n",
       "      <td>$1,227.44</td>\n",
       "      <td>UQ360</td>\n",
       "      <td>17/01/2014</td>\n",
       "      <td>12:14:24</td>\n",
       "      <td>8336204</td>\n",
       "      <td>320092897</td>\n",
       "      <td>Gymboree</td>\n",
       "      <td>ZF8986</td>\n",
       "      <td>Mobile carrier Billing</td>\n",
       "      <td>43458</td>\n",
       "      <td>0</td>\n",
       "      <td>NaN</td>\n",
       "    </tr>\n",
       "    <tr>\n",
       "      <th>9998</th>\n",
       "      <td>8532.0</td>\n",
       "      <td>395</td>\n",
       "      <td>OFFICE SUPPLIES</td>\n",
       "      <td>New</td>\n",
       "      <td>WELZA</td>\n",
       "      <td>$2,909.68</td>\n",
       "      <td>$2,883.68</td>\n",
       "      <td>SI291</td>\n",
       "      <td>26/05/2014</td>\n",
       "      <td>10:40:05</td>\n",
       "      <td>1813449</td>\n",
       "      <td>615832837</td>\n",
       "      <td>DODOcase</td>\n",
       "      <td>UW7356</td>\n",
       "      <td>Credit card</td>\n",
       "      <td>82048</td>\n",
       "      <td>0</td>\n",
       "      <td>NaN</td>\n",
       "    </tr>\n",
       "  </tbody>\n",
       "</table>\n",
       "<p>9999 rows × 18 columns</p>\n",
       "</div>"
      ],
      "text/plain": [
       "      Credit_card  Product_ID       P_CATEGORY     CONDTION  Brand  \\\n",
       "0          4595.0         534            SHOES          New  RKFCM   \n",
       "1          6679.0         396          LUGGAGE          New  TNVON   \n",
       "2          7075.0         449            SHOES  Refurbished  VKKEA   \n",
       "3          1418.0         145          BEDDING          New  PIUEM   \n",
       "4          6740.0         844      ELECTRONICS         Used  FMBZC   \n",
       "...           ...         ...              ...          ...    ...   \n",
       "9994       8609.0         470       APPLIANCES          New  TTNTN   \n",
       "9995       9725.0         406         CLOTHING         Used  ONKHS   \n",
       "9996       1548.0         694      ELECTRONICS          New  AGSDS   \n",
       "9997       4878.0         552            SHOES          New  RKFCM   \n",
       "9998       8532.0         395  OFFICE SUPPLIES          New  WELZA   \n",
       "\n",
       "          Price  Selling_price Coupon_ID        Date      Time     GTIN  \\\n",
       "0     $1,484.74     $1,471.74      BN710  26/08/2014  17:16:17  3109172   \n",
       "1     $1,452.50     $1,442.50      KF815  26/01/2014  15:40:52  7583605   \n",
       "2     $4,308.02     $4,284.02      UG960  03/01/2014  01:29:05  9985192   \n",
       "3     $3,272.59     $3,249.59      DK471  30/05/2014  09:10:00  7720605   \n",
       "4       $628.67       $608.67      OJ311  14/08/2014  05:31:30  8367528   \n",
       "...          ...           ...       ...         ...       ...      ...   \n",
       "9994  $1,187.85     $1,187.85      FL494  09/08/2014  18:09:03  7482917   \n",
       "9995  $2,202.20     $2,202.20      DP660  02/11/2014  12:31:20  6749808   \n",
       "9996  $3,123.80     $3,079.80      VI354  09/02/2014  20:06:24  7644170   \n",
       "9997  $1,257.44     $1,227.44      UQ360  17/01/2014  12:14:24  8336204   \n",
       "9998  $2,909.68     $2,883.68      SI291  26/05/2014  10:40:05  1813449   \n",
       "\n",
       "            MPN       Merchant_name    M_ID          Payment Method  \\\n",
       "0     547836726    Peninsula Beauty  YE5901            Prepaid card   \n",
       "1     279617132            DODOcase  UW7354  Mobile carrier Billing   \n",
       "2     633765867             Staples  VN6656             Credit card   \n",
       "3     734500382  Road Runner Sports  MS6579            Prepaid card   \n",
       "4     241944637          L'Occitane  GN3944              Debit card   \n",
       "...         ...                 ...     ...                     ...   \n",
       "9994  337083364       Cole Hardware  EX7729             Credit card   \n",
       "9995  354170741       Cole Hardware  EX7730            Prepaid card   \n",
       "9996  101023606      Barnes & Noble  EY1659  Mobile carrier Billing   \n",
       "9997  320092897            Gymboree  ZF8986  Mobile carrier Billing   \n",
       "9998  615832837            DODOcase  UW7356             Credit card   \n",
       "\n",
       "      Transaction ID  Return_ind Return_date  \n",
       "0              30462           0         NaN  \n",
       "1              37927           0         NaN  \n",
       "2              80640           0         NaN  \n",
       "3              58692           0         NaN  \n",
       "4              21505           0         NaN  \n",
       "...              ...         ...         ...  \n",
       "9994           17306           0         NaN  \n",
       "9995           41829           0         NaN  \n",
       "9996           34577           0         NaN  \n",
       "9997           43458           0         NaN  \n",
       "9998           82048           0         NaN  \n",
       "\n",
       "[9999 rows x 18 columns]"
      ]
     },
     "execution_count": 61,
     "metadata": {},
     "output_type": "execute_result"
    }
   ],
   "source": [
    "import numpy as np\n",
    "import pandas as pd\n",
    "\n",
    "df=pd.read_csv(\"C:/Users/ritti/Downloads/internal_skill_stuff/Edulyt_Internship/project_3/credit_banking_new.csv\")\n",
    "df"
   ]
  },
  {
   "cell_type": "markdown",
   "id": "e5d9cf8d",
   "metadata": {},
   "source": [
    "## scheck-1"
   ]
  },
  {
   "cell_type": "code",
   "execution_count": 62,
   "id": "03538652",
   "metadata": {},
   "outputs": [
    {
     "name": "stderr",
     "output_type": "stream",
     "text": [
      "C:\\Users\\ritti\\AppData\\Local\\Temp/ipykernel_4300/2939332830.py:2: FutureWarning: A value is trying to be set on a copy of a DataFrame or Series through chained assignment using an inplace method.\n",
      "The behavior will change in pandas 3.0. This inplace method will never work because the intermediate object on which we are setting values always behaves as a copy.\n",
      "\n",
      "For example, when doing 'df[col].method(value, inplace=True)', try using 'df.method({col: value}, inplace=True)' or df[col] = df[col].method(value) instead, to perform the operation inplace on the original object.\n",
      "\n",
      "\n",
      "  df['Credit_card'].fillna('No Credit Card', inplace=True)\n",
      "C:\\Users\\ritti\\AppData\\Local\\Temp/ipykernel_4300/2939332830.py:2: FutureWarning: Setting an item of incompatible dtype is deprecated and will raise an error in a future version of pandas. Value 'No Credit Card' has dtype incompatible with float64, please explicitly cast to a compatible dtype first.\n",
      "  df['Credit_card'].fillna('No Credit Card', inplace=True)\n"
     ]
    }
   ],
   "source": [
    "# Replace NaN values with a new unique ID\n",
    "df['Credit_card'].fillna('No Credit Card', inplace=True)\n",
    "\n",
    "# If the missing values are not NaNs but some other placeholder value (like 'Unknown'):\n",
    "# df['Credit_card'].replace('Unknown', 'No Credit Card', inplace=True)\n",
    "df.to_csv(\"scheck_1.csv\",index=False)"
   ]
  },
  {
   "cell_type": "code",
   "execution_count": 63,
   "id": "b724a641",
   "metadata": {},
   "outputs": [],
   "source": [
    "df.columns = df.columns.str.strip()\n"
   ]
  },
  {
   "cell_type": "markdown",
   "id": "5533c48b",
   "metadata": {},
   "source": [
    "## scheck-2"
   ]
  },
  {
   "cell_type": "code",
   "execution_count": 64,
   "id": "c489d553",
   "metadata": {},
   "outputs": [],
   "source": [
    "# Convert 'Selling_price' to numeric, invalid parsing will be set as NaN\n",
    "df['Selling_price'] = pd.to_numeric(df['Selling_price'], errors='coerce')\n",
    "\n",
    "# Now try the discount application code again\n",
    "discount_condition = (df['Price'] == df['Selling_price']) & (df['Coupon_ID'].notna())\n",
    "df.loc[discount_condition, 'Selling_price'] = df.loc[discount_condition, 'Selling_price'] * 0.95\n",
    "# Save DataFrame to CSV after operation\n",
    "df.to_csv('scheck_2.csv', index=False)\n"
   ]
  },
  {
   "cell_type": "markdown",
   "id": "cad6290c",
   "metadata": {},
   "source": [
    "## scheck-3"
   ]
  },
  {
   "cell_type": "code",
   "execution_count": 65,
   "id": "18955691",
   "metadata": {},
   "outputs": [
    {
     "name": "stdout",
     "output_type": "stream",
     "text": [
      "Found 25 invalid returns. Handling them now.\n"
     ]
    }
   ],
   "source": [
    "# Convert 'Date' and 'Return_date' to datetime format\n",
    "df['Date'] = pd.to_datetime(df['Date'], dayfirst=True)\n",
    "df['Return_date'] = pd.to_datetime(df['Return_date'], dayfirst=True)\n",
    "\n",
    "# Check if 'Return_date' is later than 'Date'\n",
    "invalid_returns = df[df['Return_date'] <= df['Date']]\n",
    "\n",
    "# If there are any invalid returns, handle them (e.g., remove them or set 'Return_date' to NaN)\n",
    "if not invalid_returns.empty:\n",
    "    print(f\"Found {len(invalid_returns)} invalid returns. Handling them now.\")\n",
    "    df.loc[invalid_returns.index, 'Return_date'] = pd.NaT\n"
   ]
  },
  {
   "cell_type": "markdown",
   "id": "43da7823",
   "metadata": {},
   "source": [
    "## scheck-4"
   ]
  },
  {
   "cell_type": "code",
   "execution_count": 66,
   "id": "2b9f94c1",
   "metadata": {},
   "outputs": [
    {
     "name": "stderr",
     "output_type": "stream",
     "text": [
      "C:\\Users\\ritti\\AppData\\Local\\Temp/ipykernel_4300/3119689728.py:5: FutureWarning: Setting an item of incompatible dtype is deprecated and will raise an error in a future version of pandas. Value '['$3,788.97 ' '$3,697.22 ' '$379.49 ' '$623.05 ' '$2,213.77 ' '$2,280.16 '\n",
      " '$635.56 ' '$1,050.51 ' '$3,205.26 ' '$2,455.58 ' '$3,631.77 '\n",
      " '$1,680.33 ' '$1,363.08 ' '$379.56 ' '$2,132.96 ' '$298.03 ' '$2,868.97 '\n",
      " '$4,641.79 ' '$2,230.61 ' '$4,802.17 ']' has dtype incompatible with float64, please explicitly cast to a compatible dtype first.\n",
      "  df.loc[no_coupon, 'Selling_price'] = df.loc[no_coupon, 'Price']\n"
     ]
    }
   ],
   "source": [
    "# Identify rows where Coupon ID is NULL\n",
    "no_coupon = df['Coupon_ID'].isna()\n",
    "\n",
    "# Set 'Selling_price' equal to 'Price' for those entries\n",
    "df.loc[no_coupon, 'Selling_price'] = df.loc[no_coupon, 'Price']\n",
    "df.to_csv('scheck_4.csv', index=False)\n"
   ]
  },
  {
   "cell_type": "markdown",
   "id": "d037edda",
   "metadata": {},
   "source": [
    "## scheck-5"
   ]
  },
  {
   "cell_type": "code",
   "execution_count": 67,
   "id": "0526d211",
   "metadata": {},
   "outputs": [
    {
     "name": "stdout",
     "output_type": "stream",
     "text": [
      "Found 13 underage CC holders. Handling them now.\n"
     ]
    },
    {
     "name": "stderr",
     "output_type": "stream",
     "text": [
      "C:\\Users\\ritti\\AppData\\Local\\Temp/ipykernel_4300/963556428.py:10: FutureWarning: Setting an item of incompatible dtype is deprecated and will raise an error in a future version of pandas. Value 'NaT' has dtype incompatible with int64, please explicitly cast to a compatible dtype first.\n",
      "  df2.loc[underage, 'Age'] = pd.NaT\n"
     ]
    }
   ],
   "source": [
    "# Load the second dataset from the Excel file\n",
    "df2 = pd.read_csv(\"C:/Users/ritti/Downloads/internal_skill_stuff/Edulyt_Internship/project_3/credit_banking_new2.csv\")\n",
    "\n",
    "# Now you can access the 'Age' column\n",
    "underage = df2['Age'] <= 18\n",
    "\n",
    "# Handle underage CC holders\n",
    "if underage.any():\n",
    "    print(f\"Found {underage.sum()} underage CC holders. Handling them now.\")\n",
    "    df2.loc[underage, 'Age'] = pd.NaT\n",
    "\n",
    "    \n",
    "df2.to_csv('scheck_5.csv', index=False)\n"
   ]
  },
  {
   "cell_type": "markdown",
   "id": "69f54b77",
   "metadata": {},
   "source": [
    "## scheck-6"
   ]
  },
  {
   "cell_type": "code",
   "execution_count": 87,
   "id": "22795fc5",
   "metadata": {},
   "outputs": [
    {
     "name": "stdout",
     "output_type": "stream",
     "text": [
      "Transaction ID is not unique. Duplicates exist.\n"
     ]
    }
   ],
   "source": [
    "\n",
    "# Check if 'Transaction ID' is unique\n",
    "if df['Transaction ID'].is_unique:\n",
    "    print(\"Transaction ID is unique for all entries.\")\n",
    "else:\n",
    "    print(\"Transaction ID is not unique. Duplicates exist.\")\n",
    "\n",
    "# If you want to remove duplicates based on 'Transaction ID'\n",
    "df_unique = df.drop_duplicates(subset='Transaction ID', keep='first')\n",
    "\n",
    "# Save the dataframe with unique Transaction ID to a new CSV file\n",
    "df_unique.to_csv('your_file_unique.csv', index=False)\n"
   ]
  },
  {
   "cell_type": "markdown",
   "id": "0db11680",
   "metadata": {},
   "source": [
    "# Task"
   ]
  },
  {
   "cell_type": "markdown",
   "id": "e5a07d47",
   "metadata": {},
   "source": [
    "## Task-1"
   ]
  },
  {
   "cell_type": "code",
   "execution_count": 69,
   "id": "4a45e93d",
   "metadata": {},
   "outputs": [
    {
     "name": "stdout",
     "output_type": "stream",
     "text": [
      "Segment\n",
      "F Old        59\n",
      "M Old        55\n",
      "F Young      23\n",
      "M Young      21\n",
      "F Mid age    15\n",
      "M Mid age    12\n",
      "Name: count, dtype: int64\n"
     ]
    }
   ],
   "source": [
    "# Assuming df2 is your DataFrame\n",
    "\n",
    "# Remove rows with missing 'Age' values\n",
    "df2 = df2.dropna(subset=['Age'])\n",
    "\n",
    "# Define age groups\n",
    "bins = [0, 35, 55, df2['Age'].max()]\n",
    "labels = ['Young', 'Mid age', 'Old']\n",
    "df2['Age_group'] = pd.cut(df2['Age'], bins=bins, labels=labels)\n",
    "\n",
    "# Convert 'Age_group' to string type\n",
    "df2['Age_group'] = df2['Age_group'].astype(str)\n",
    "\n",
    "# Define segments based on gender and age group\n",
    "df2['Segment'] = df2['Gender'] + ' ' + df2['Age_group']\n",
    "\n",
    "# Print the number of customers in each segment\n",
    "print(df2['Segment'].value_counts())\n",
    "(df2['Segment'].value_counts()).to_csv(\"Task_1.csv\")"
   ]
  },
  {
   "cell_type": "markdown",
   "id": "bfc29cd4",
   "metadata": {},
   "source": [
    "## Task-2"
   ]
  },
  {
   "cell_type": "code",
   "execution_count": 70,
   "id": "c1ec6b4a",
   "metadata": {},
   "outputs": [
    {
     "name": "stdout",
     "output_type": "stream",
     "text": [
      "Total spend by product:\n",
      " P_CATEGORY\n",
      "APPLIANCES          $4,891.58 $2,085.85 $2,109.85 $2,017.24 $2,028...\n",
      "BABY CLOTHING       $3,918.19 $4,633.93 $3,297.99 $4,609.93 $2,009...\n",
      "BABY TOYS           $289.49 $3,499.43 $334.28 $1,598.58 $3,093.36 ...\n",
      "BEDDING             $3,249.59 $1,955.83 $3,710.01 $3,527.28 $1,957...\n",
      "CLOTHING            $3,704.69 $2,181.20 $887.56 $358.59 $1,025.81 ...\n",
      "COMPUTERS           $2,827.97 $846.57 $2,836.97 $1,337.08 $4,069.4...\n",
      "DECOR               $974.49 $4,943.44 $2,636.83 $4,932.73 $390.77 ...\n",
      "ELECTRONICS         $608.67 $2,802.51 $4,172.69 $3,607.22 $2,784.5...\n",
      "GAMES               $2,383.99 $2,403.99 $711.39 $4,134.59 $2,446.8...\n",
      "KITCHEN & DINING    $3,984.79 $4,007.79 $4,171.27 $94.43 $2,123.77...\n",
      "LUGGAGE             $1,442.50 $3,698.97 $4,764.25 $1,439.50 $376.7...\n",
      "OFFICE SUPPLIES     $1,001.90 $2,167.71 $2,490.31 $4,652.60 $3,103...\n",
      "SHOES               $1,471.74 $4,284.02 $3,434.72 $1,257.44 $2,262...\n",
      "Name: Selling_price, dtype: object\n",
      "\n",
      "Total spend by state:\n",
      " State\n",
      "Arizona          $4,891.58 $771.93 $2,181.20 $3,499.43 $2,618.3...\n",
      "California       $4,172.69 $4,943.44 $2,403.99 $3,434.72 $2,262...\n",
      "Illinois         $1,442.50 $4,284.02 $974.49 $4,652.60 $4,166.6...\n",
      "Kentucky         $3,249.59 $1,257.44 $3,527.28 $4,932.73 $743.9...\n",
      "Massachusetts    $1,471.74 $3,607.22 $887.56 $2,085.85 $939.46 ...\n",
      "Missouri         $3,984.79 $3,704.69 $3,783.74 $2,171.71 $46.63...\n",
      "Nevada           $2,383.99 $2,827.97 $376.74 $2,784.51 $4,171.2...\n",
      "Ohio             $3,918.19 $2,177.14 $588.05 $2,478.20 $2,778.1...\n",
      "Texas            $608.67 $1,001.90 $4,764.25 $1,439.50 $846.57 ...\n",
      "Washington       $3,698.97 $2,802.51 $2,490.31 $4,146.69 $1,598...\n",
      "Name: Selling_price, dtype: object\n",
      "\n",
      "Total spend by payment method:\n",
      " Payment Method\n",
      "Credit card               $4,284.02 $4,891.58 $4,764.25 $4,172.69 $3,984...\n",
      "Debit card                $608.67 $974.49 $846.57 $4,633.93 $1,413.77 $3...\n",
      "Deirect debits            $3,541.77 $2,879.20 $2,412.48 $359.59 $3,246.1...\n",
      "Gift card                 $3,665.96 $335.54 $2,399.11 $1,174.85 $3,532.7...\n",
      "Mobile carrier Billing    $1,442.50 $3,698.97 $1,001.90 $3,918.19 $2,383...\n",
      "Paypal wallet             $1,025.81 $3,605.77 $2,190.16 $4,006.79 $2,002...\n",
      "Prepaid card              $1,471.74 $3,249.59 $2,802.51 $3,783.74 $289.4...\n",
      "Name: Selling_price, dtype: object\n"
     ]
    }
   ],
   "source": [
    "import pandas as pd\n",
    "import numpy as np\n",
    "\n",
    "# Load the transaction data\n",
    "df_transaction = pd.read_csv(\"C:/Users/ritti/Downloads/internal_skill_stuff/Edulyt_Internship/project_3/credit_banking_new.csv\")\n",
    "\n",
    "# Load the customer data\n",
    "df_customer = pd.read_csv(\"C:/Users/ritti/Downloads/internal_skill_stuff/Edulyt_Internship/project_3/credit_banking_new2.csv\")\n",
    "\n",
    "# Remove leading and trailing spaces in column names\n",
    "df_transaction.columns = df_transaction.columns.str.strip()\n",
    "df_customer.columns = df_customer.columns.str.strip()\n",
    "\n",
    "# Replace non-finite values in 'Credit_card' with 0 and convert to int\n",
    "df_transaction['Credit_card'] = df_transaction['Credit_card'].replace(np.nan, 0).astype(int)\n",
    "\n",
    "# Convert 'C_ID' in customer data to int\n",
    "df_customer['C_ID'] = df_customer['C_ID'].astype(int)\n",
    "\n",
    "# Merge the two dataframes on 'C_ID' and 'Credit_card'\n",
    "df = pd.merge(df_transaction, df_customer, left_on='Credit_card', right_on='C_ID')\n",
    "\n",
    "# Calculate total spend for each Product\n",
    "product_spend = df.groupby('P_CATEGORY')['Selling_price'].sum()\n",
    "\n",
    "# Calculate total spend for each State\n",
    "state_spend = df.groupby('State')['Selling_price'].sum()\n",
    "\n",
    "# Calculate total spend for each Payment Method\n",
    "payment_spend = df.groupby('Payment Method')['Selling_price'].sum()\n",
    "\n",
    "print(\"Total spend by product:\\n\", product_spend)\n",
    "print(\"\\nTotal spend by state:\\n\", state_spend)\n",
    "print(\"\\nTotal spend by payment method:\\n\", payment_spend)\n"
   ]
  },
  {
   "cell_type": "code",
   "execution_count": 71,
   "id": "78aa0db8",
   "metadata": {},
   "outputs": [],
   "source": [
    "# Add a new column to each dataframe to describe the data\n",
    "df_product_spend['Category'] = 'Product'\n",
    "df_state_spend['Category'] = 'State'\n",
    "df_payment_spend['Category'] = 'Payment Method'\n",
    "\n",
    "# Rename the columns for merging\n",
    "df_product_spend.columns = ['Type', 'Spend', 'Category']\n",
    "df_state_spend.columns = ['Type', 'Spend', 'Category']\n",
    "df_payment_spend.columns = ['Type', 'Spend', 'Category']\n",
    "\n",
    "# Concatenate the dataframes\n",
    "df_total_spend = pd.concat([df_product_spend, df_state_spend, df_payment_spend])\n",
    "\n",
    "# Save the dataframe to a CSV file\n",
    "df_total_spend.to_csv('Task_2.csv', index=False)\n"
   ]
  },
  {
   "cell_type": "markdown",
   "id": "9ae72b4f",
   "metadata": {},
   "source": [
    "## Task-3"
   ]
  },
  {
   "cell_type": "code",
   "execution_count": 72,
   "id": "f3f9e8c9",
   "metadata": {},
   "outputs": [],
   "source": [
    "# Remove rows with missing 'Age' values\n",
    "df = df.dropna(subset=['Age'])\n",
    "\n",
    "# Define age groups\n",
    "bins = [0, 35, 55, df['Age'].max()]\n",
    "labels = ['Young', 'Mid age', 'Old']\n",
    "df['Age_group'] = pd.cut(df['Age'], bins=bins, labels=labels)\n",
    "\n",
    "# Convert 'Age_group' to string type\n",
    "df['Age_group'] = df['Age_group'].astype(str)\n",
    "\n",
    "# Define segments based on gender and age group\n",
    "df['Segment'] = df['Gender'] + ' ' + df['Age_group']\n"
   ]
  },
  {
   "cell_type": "code",
   "execution_count": 73,
   "id": "2933aa5c",
   "metadata": {},
   "outputs": [
    {
     "name": "stdout",
     "output_type": "stream",
     "text": [
      "Total spend by segment:\n",
      " Segment\n",
      "F Mid age    $608.67 $1,001.90 $4,943.44 $376.74 $1,257.44 ...\n",
      "F Old        $1,442.50 $3,918.19 $2,383.99 $3,984.79 $2,403...\n",
      "F Young      $974.49 $3,607.22 $3,704.69 $887.56 $1,025.81 ...\n",
      "M Mid age    $4,891.58 $1,439.50 $3,434.72 $4,007.79 $4,069...\n",
      "M Old        $1,471.74 $4,284.02 $3,698.97 $2,827.97 $846.5...\n",
      "M Young      $3,249.59 $2,802.51 $4,764.25 $4,172.69 $3,297...\n",
      "Name: Selling_price, dtype: object\n"
     ]
    }
   ],
   "source": [
    "# Calculate total spend for each Segment\n",
    "segment_spend = df.groupby('Segment')['Selling_price'].sum()\n",
    "\n",
    "print(\"Total spend by segment:\\n\", segment_spend)\n",
    "segment_spend.to_csv(\"Task_3.csv\")"
   ]
  },
  {
   "cell_type": "markdown",
   "id": "fabcf5a7",
   "metadata": {},
   "source": [
    "## Task-4"
   ]
  },
  {
   "cell_type": "code",
   "execution_count": 76,
   "id": "839b164b",
   "metadata": {},
   "outputs": [],
   "source": [
    "merged_df = pd.merge(df, df2, left_on='Credit_card', right_on='C_ID')\n"
   ]
  },
  {
   "cell_type": "code",
   "execution_count": 77,
   "id": "56f08285",
   "metadata": {},
   "outputs": [],
   "source": [
    "merged_df['Return_ind'] = merged_df['Return_ind'].astype(bool)\n"
   ]
  },
  {
   "cell_type": "code",
   "execution_count": 78,
   "id": "db538a4f",
   "metadata": {},
   "outputs": [],
   "source": [
    "merged_df['Price'] = pd.to_numeric(merged_df['Price'].astype(str).str.replace(',', '').str.replace('$', ''), errors='coerce')\n",
    "merged_df['Selling_price'] = pd.to_numeric(merged_df['Selling_price'].astype(str).str.replace(',', '').str.replace('$', ''), errors='coerce')\n"
   ]
  },
  {
   "cell_type": "code",
   "execution_count": 79,
   "id": "e463166c",
   "metadata": {},
   "outputs": [],
   "source": [
    "# Now you can calculate 'Discount'\n",
    "merged_df['Discount'] = merged_df['Price'] - merged_df['Selling_price']\n"
   ]
  },
  {
   "cell_type": "code",
   "execution_count": 80,
   "id": "79460fd3",
   "metadata": {},
   "outputs": [
    {
     "name": "stdout",
     "output_type": "stream",
     "text": [
      "Returns by state:\n",
      " State_x\n",
      "Arizona           94\n",
      "California       404\n",
      "Illinois         122\n",
      "Kentucky         111\n",
      "Massachusetts    110\n",
      "Missouri          48\n",
      "Nevada            89\n",
      "Ohio              54\n",
      "Texas            267\n",
      "Washington       120\n",
      "dtype: int64\n",
      "\n",
      "Returns by age group:\n",
      " Age_group\n",
      "Young      328\n",
      "Mid age    178\n",
      "Old        913\n",
      "dtype: int64\n",
      "\n",
      "Returns by condition:\n",
      " CONDTION\n",
      "New            661\n",
      "Refurbished    362\n",
      "Used           396\n",
      "dtype: int64\n",
      "\n",
      "Returns by product category:\n",
      " P_CATEGORY\n",
      "APPLIANCES           83\n",
      "BABY CLOTHING        66\n",
      "BABY TOYS            56\n",
      "BEDDING              77\n",
      "CLOTHING            110\n",
      "COMPUTERS           160\n",
      "DECOR               175\n",
      "ELECTRONICS         146\n",
      "GAMES               105\n",
      "KITCHEN & DINING    112\n",
      "LUGGAGE              87\n",
      "OFFICE SUPPLIES     112\n",
      "SHOES               130\n",
      "dtype: int64\n",
      "\n",
      "Returns by discount:\n",
      " Discount\n",
      "0.0     26\n",
      "10.0    27\n",
      "11.0    27\n",
      "12.0    35\n",
      "13.0    36\n",
      "14.0    27\n",
      "15.0    36\n",
      "16.0     1\n",
      "16.0    34\n",
      "17.0    31\n",
      "18.0    39\n",
      "19.0    37\n",
      "20.0    37\n",
      "21.0    31\n",
      "22.0     1\n",
      "22.0    36\n",
      "22.0     1\n",
      "23.0    45\n",
      "24.0    29\n",
      "25.0     1\n",
      "25.0    26\n",
      "26.0    58\n",
      "27.0    24\n",
      "28.0    28\n",
      "29.0    43\n",
      "30.0    25\n",
      "31.0    40\n",
      "32.0    41\n",
      "33.0    24\n",
      "34.0    34\n",
      "35.0     1\n",
      "35.0    31\n",
      "36.0     1\n",
      "36.0    32\n",
      "37.0    42\n",
      "38.0    35\n",
      "39.0    27\n",
      "40.0    25\n",
      "41.0    34\n",
      "42.0    27\n",
      "43.0     1\n",
      "43.0    35\n",
      "44.0    40\n",
      "45.0    23\n",
      "46.0    35\n",
      "47.0     2\n",
      "47.0     1\n",
      "47.0    33\n",
      "48.0    32\n",
      "49.0     2\n",
      "49.0     1\n",
      "49.0    42\n",
      "50.0     3\n",
      "50.0    30\n",
      "90.0     3\n",
      "dtype: int64\n"
     ]
    },
    {
     "name": "stderr",
     "output_type": "stream",
     "text": [
      "C:\\Users\\ritti\\AppData\\Local\\Temp/ipykernel_4300/153477111.py:11: FutureWarning: The default of observed=False is deprecated and will be changed to True in a future version of pandas. Pass observed=False to retain current behavior or observed=True to adopt the future default and silence this warning.\n",
      "  returns_by_age_group = merged_df[merged_df['Return_ind']].groupby('Age_group').size()\n"
     ]
    }
   ],
   "source": [
    "\n",
    "\n",
    "# Convert 'Return_ind' to boolean\n",
    "merged_df['Return_ind'] = merged_df['Return_ind'].astype(bool)\n",
    "\n",
    "# Analyze returns by state\n",
    "returns_by_state = merged_df[merged_df['Return_ind']].groupby('State_x').size()\n",
    "\n",
    "# Analyze returns by age group\n",
    "bins = [0, 35, 55, merged_df['Age_x'].max()]\n",
    "labels = ['Young', 'Mid age', 'Old']\n",
    "merged_df['Age_group'] = pd.cut(merged_df['Age_x'], bins=bins, labels=labels)\n",
    "returns_by_age_group = merged_df[merged_df['Return_ind']].groupby('Age_group').size()\n",
    "\n",
    "# Analyze returns by condition\n",
    "returns_by_condition = merged_df[merged_df['Return_ind']].groupby('CONDTION').size()\n",
    "\n",
    "# Analyze returns by product category\n",
    "returns_by_category = merged_df[merged_df['Return_ind']].groupby('P_CATEGORY').size()\n",
    "\n",
    "# Analyze returns by discount\n",
    "merged_df['Discount'] = merged_df['Price'] - merged_df['Selling_price']\n",
    "returns_by_discount = merged_df[merged_df['Return_ind']].groupby('Discount').size()\n",
    "\n",
    "print(\"Returns by state:\\n\", returns_by_state)\n",
    "print(\"\\nReturns by age group:\\n\", returns_by_age_group)\n",
    "print(\"\\nReturns by condition:\\n\", returns_by_condition)\n",
    "print(\"\\nReturns by product category:\\n\", returns_by_category)\n",
    "print(\"\\nReturns by discount:\\n\", returns_by_discount)\n"
   ]
  },
  {
   "cell_type": "markdown",
   "id": "5a4062d5",
   "metadata": {},
   "source": [
    "From the output, we can make the following observations:\n",
    "\n",
    "### Returns by state: The state with the highest number of returns is California (404 returns), followed by Texas (267 returns) and Washington (120 returns). This could indicate that customers in these states are more likely to return products, or it could simply reflect a higher volume of sales in these states.\n",
    "\n",
    "### Returns by age group: The age group with the highest number of returns is ‘Old’ (913 returns), followed by ‘Young’ (328 returns) and ‘Mid age’ (178 returns). This suggests that older customers are more likely to return products.\n",
    "### Returns by condition: Products that are ‘New’ have the highest number of returns (661 returns), followed by ‘Used’ (396 returns) and ‘Refurbished’ (362 returns). This could indicate that customers are more likely to return new products, possibly because they have higher expectations for these products.\n",
    "\n",
    "### Returns by product category: The product categories with the highest number of returns are ‘CLOTHING’ (110 returns), ‘COMPUTERS’ (160 returns), and ‘DECOR’ (175 returns). This could suggest that these product categories are more likely to have returns, possibly due to size, fit, or personal preference issues.\n",
    "\n",
    "### Returns by discount: The discount amounts with the highest number of returns are 0.0 (26 returns), 10.0 (27 returns), and 26.0 (58 returns). This suggests that the amount of discount does not have a significant impact on the likelihood of a product being returned.\n",
    "\n",
    "These are just preliminary observations and would need further analysis to draw more concrete conclusions. For example, it would be useful to look at the return rates (i.e., the number of returns divided by the total number of sales) for each category, as this would give a more accurate picture of the likelihood of returns. It’s also important to consider other factors that could be influencing these results, such as the volume of sales in each category."
   ]
  },
  {
   "cell_type": "markdown",
   "id": "fb3ac87a",
   "metadata": {},
   "source": [
    "## Task-5"
   ]
  },
  {
   "cell_type": "code",
   "execution_count": 81,
   "id": "b830cb16",
   "metadata": {},
   "outputs": [
    {
     "name": "stdout",
     "output_type": "stream",
     "text": [
      "Number of orders by time period:\n",
      " Time_Period\n",
      "Night        2362\n",
      "Morning      2590\n",
      "Afternoon    2477\n",
      "Evening      2565\n",
      "Name: count, dtype: int64\n"
     ]
    },
    {
     "name": "stderr",
     "output_type": "stream",
     "text": [
      "C:\\Users\\ritti\\AppData\\Local\\Temp/ipykernel_4300/2359735307.py:4: UserWarning: Parsing dates in %d/%m/%Y %H:%M:%S format when dayfirst=False (the default) was specified. Pass `dayfirst=True` or specify a format to silence this warning.\n",
      "  df['Datetime'] = pd.to_datetime(df['Date'] + ' ' + df['Time'])\n"
     ]
    }
   ],
   "source": [
    "import pandas as pd\n",
    "\n",
    "# Convert 'Date' and 'Time' to datetime type\n",
    "df['Datetime'] = pd.to_datetime(df['Date'] + ' ' + df['Time'])\n",
    "\n",
    "# Extract hour from 'Datetime'\n",
    "df['Hour'] = df['Datetime'].dt.hour\n",
    "\n",
    "# Define time periods\n",
    "bins = [0, 6, 12, 18, 24]\n",
    "labels = ['Night', 'Morning', 'Afternoon', 'Evening']\n",
    "\n",
    "# Create a new column 'Time_Period'\n",
    "df['Time_Period'] = pd.cut(df['Hour'], bins=bins, labels=labels, right=False)\n",
    "\n",
    "# Analyze orders by time period\n",
    "time_period_orders = df['Time_Period'].value_counts().sort_index()\n",
    "\n",
    "print(\"Number of orders by time period:\\n\", time_period_orders)\n"
   ]
  },
  {
   "cell_type": "markdown",
   "id": "0054e8e3",
   "metadata": {},
   "source": [
    "## Task-6"
   ]
  },
  {
   "cell_type": "code",
   "execution_count": 82,
   "id": "cd189868",
   "metadata": {},
   "outputs": [
    {
     "name": "stdout",
     "output_type": "stream",
     "text": [
      "Total discount by payment method:\n",
      " Payment Method\n",
      "Mobile carrier Billing    123424.0\n",
      "Credit card               112034.0\n",
      "Prepaid card               47140.0\n",
      "Debit card                  9178.0\n",
      "Paypal wallet               2471.0\n",
      "Deirect debits              2429.0\n",
      "Gift card                   1777.0\n",
      "Name: Discount, dtype: float64\n"
     ]
    }
   ],
   "source": [
    "# Remove dollar sign, commas, and convert to float\n",
    "df['Price'] = df['Price'].replace({'\\$': '', ',': ''}, regex=True).astype(float)\n",
    "\n",
    "# Handle parentheses for negative numbers, remove dollar sign, commas, and convert to float\n",
    "df['Selling_price'] = df['Selling_price'].replace({'\\$': '', ',': '', '\\(': '-', '\\)': ''}, regex=True).astype(float)\n",
    "\n",
    "# Calculate discount\n",
    "df['Discount'] = df['Price'] - df['Selling_price']\n",
    "\n",
    "# Calculate total discount for each payment method\n",
    "discount_by_payment = df.groupby('Payment Method')['Discount'].sum().sort_values(ascending=False)\n",
    "\n",
    "print(\"Total discount by payment method:\\n\", discount_by_payment)\n"
   ]
  },
  {
   "cell_type": "markdown",
   "id": "e1577aad",
   "metadata": {},
   "source": [
    "## Task-7"
   ]
  },
  {
   "cell_type": "code",
   "execution_count": 83,
   "id": "7128fdb0",
   "metadata": {},
   "outputs": [
    {
     "name": "stdout",
     "output_type": "stream",
     "text": [
      "Value\n",
      "High    7971\n",
      "Low     2023\n",
      "dtype: int64\n"
     ]
    }
   ],
   "source": [
    "import pandas as pd\n",
    "\n",
    "# Assuming df is your DataFrame and 'Selling_price' is the column with the prices\n",
    "df['Value'] = ['High' if price > 1000 else 'Low' for price in df['Selling_price']]\n",
    "\n",
    "# Now, we can group by the 'Value' column and count the number of orders for each group\n",
    "profile = df.groupby('Value').size()\n",
    "\n",
    "print(profile)\n"
   ]
  },
  {
   "cell_type": "markdown",
   "id": "83e112c8",
   "metadata": {},
   "source": [
    "## Task-8"
   ]
  },
  {
   "cell_type": "code",
   "execution_count": 86,
   "id": "2f5dc6ff",
   "metadata": {},
   "outputs": [
    {
     "data": {
      "image/png": "[encoded data removed]",
      "text/plain": [
       "<Figure size 720x432 with 1 Axes>"
      ]
     },
     "metadata": {
      "needs_background": "light"
     },
     "output_type": "display_data"
    }
   ],
   "source": [
    " \n",
    "import matplotlib.pyplot as plt\n",
    "\n",
    "# Calculate the number of orders for each discount level\n",
    "orders_by_discount = merged_df.groupby('Discount')['Transaction ID'].count()\n",
    "\n",
    "# Plot the result\n",
    "plt.figure(figsize=(10, 6))\n",
    "orders_by_discount.plot(kind='bar')\n",
    "plt.xlabel('Discount')\n",
    "plt.ylabel('Number of Orders')\n",
    "plt.title('Number of Orders by Discount Level')\n",
    "plt.show()\n"
   ]
  },
  {
   "cell_type": "code",
   "execution_count": 99,
   "id": "2ae97f8f",
   "metadata": {},
   "outputs": [
    {
     "name": "stdout",
     "output_type": "stream",
     "text": [
      "Correlation between discount level and number of orders:  -0.013016665223192975\n"
     ]
    }
   ],
   "source": [
    "correlation = merged_df['Discount'].corr(merged_df['Transaction ID'])\n",
    "print(\"Correlation between discount level and number of orders: \", correlation)\n"
   ]
  },
  {
   "cell_type": "markdown",
   "id": "20f84652",
   "metadata": {},
   "source": [
    "From the graph, it appears that the number of orders varies across different discount levels. However, without a clear view of the x-axis (discount levels), it’s hard to draw a definitive conclusion about the relationship between discount level and the number of orders.\n",
    "\n",
    "If there’s a general upward trend as the discount increases, it could suggest that higher discounts lead to an increase in the number of orders. However, other factors could also be influencing this trend, such as the type of products being discounted, the time of year, etc."
   ]
  },
  {
   "cell_type": "code",
   "execution_count": null,
   "id": "cae9b2b2",
   "metadata": {},
   "outputs": [],
   "source": []
  },
  {
   "cell_type": "code",
   "execution_count": null,
   "id": "2f9d07b9",
   "metadata": {},
   "outputs": [],
   "source": []
  }
 ],
 "metadata": {
  "kernelspec": {
   "display_name": "Python 3 (ipykernel)",
   "language": "python",
   "name": "python3"
  },
  "language_info": {
   "codemirror_mode": {
    "name": "ipython",
    "version": 3
   },
   "file_extension": ".py",
   "mimetype": "text/x-python",
   "name": "python",
   "nbconvert_exporter": "python",
   "pygments_lexer": "ipython3",
   "version": "3.9.7"
  }
 },
 "nbformat": 4,
 "nbformat_minor": 5
}
